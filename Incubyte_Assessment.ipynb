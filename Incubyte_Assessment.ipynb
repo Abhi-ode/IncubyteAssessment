{
 "cells": [
  {
   "cell_type": "code",
   "execution_count": 0,
   "metadata": {
    "application/vnd.databricks.v1+cell": {
     "cellMetadata": {
      "byteLimit": 2048000,
      "rowLimit": 10000
     },
     "inputWidgets": {},
     "nuid": "c68b141f-eb43-410e-b151-24a8ac1b4d14",
     "showTitle": false,
     "title": ""
    }
   },
   "outputs": [],
   "source": [
    "#import libraries\n",
    "from pyspark.sql.functions import *\n",
    "from pyspark.sql.window import Window"
   ]
  },
  {
   "cell_type": "code",
   "execution_count": 0,
   "metadata": {
    "application/vnd.databricks.v1+cell": {
     "cellMetadata": {
      "byteLimit": 2048000,
      "rowLimit": 10000
     },
     "inputWidgets": {},
     "nuid": "c77f71c1-f60a-4e44-9a43-cc8202b921cf",
     "showTitle": false,
     "title": ""
    }
   },
   "outputs": [],
   "source": [
    "#create customer dataframe\n",
    "#data\n",
    "cust_data = [\n",
    "    (\"Alex\", 123457, 20101012, 20122013, \"MVD\", \"Paul\", \"SA\", \"USA\", \"06031987\", \"A\"),\n",
    "    (\"John\", 123458, 20101012 ,20121999, \"MVD\",\"Paul\", \"TN\", \"IND\", \"06031987\", \"A\"),\n",
    "    (\"Mathew\", 123459, 20101012, 20122003, \"MVD\",\"Paul\", \"WAS\", \"PHIL\", \"10031998\", \"A\"),\n",
    "    (\"Matt\", 12345, 20101012, 20122000, \"MVD\",\"Paul\", \"BOS\", \"NYC\", \"01051984\", \"A\"),\n",
    "    (\"Jacob\", 125684, 20101012, 20121983, \"MVD\",\"Paul\", \"VIC\", \"AU\", \"02081989\", \"A\"),\n",
    "    (\"Chuck\", 125679, 20101012, 20121989, \"MVD\",\"Paul\", \"VIC\", \"AU\", \"06011999\", \"A\"),\n",
    "    (\"Rosy\", 125645, 20101012, 20121987, \"MVD\",\"Paul\", \"VIC\", \"NYC\", \"06111987\", \"A\"),\n",
    "    (\"Rosy\", 125645, 20101012, 20121990, \"MVD\",\"Paul\", \"VIC\", \"NYC\", \"06111987\", \"A\"),\n",
    "    (\"Patrick\", 125674, 20101012, 20122006, \"MVD\",\"Paul\", \"AP\", \"IND\", \"06071999\", \"A\"),\n",
    "    (\"Murphy\", 125623, 20101012, 20122013, \"MVD\",\"Paul\", \"ALP\", \"PHIL\", \"06031975\", \"A\"),\n",
    "    (\"Maria\", 125698, 20101012, 20122001, \"MVD\",\"Paul\", \"ROK\", \"USA\", \"06032001\", \"A\"),\n",
    "    (\"Peter\", 125640, 20101012, 20121981, \"MVD\",\"Paul\", \"PAT\", \"USA\", \"06031995\", \"A\")\n",
    "]\n",
    "\n",
    "#schema\n",
    "cust_schema = [\"Name\", \"Cust_I\", \"Open_Dt\", \"Consul_Dt\", \"VAC_ID\", \"DR_Name\", \"State\", \"County\", \"DOB\", \"FLAG\"]\n",
    "\n",
    "#raw dataframe\n",
    "cust_df = spark.createDataFrame(data=cust_data, schema=cust_schema)"
   ]
  },
  {
   "cell_type": "code",
   "execution_count": 0,
   "metadata": {
    "application/vnd.databricks.v1+cell": {
     "cellMetadata": {
      "byteLimit": 2048000,
      "rowLimit": 10000
     },
     "inputWidgets": {},
     "nuid": "04ee0651-6e88-4e94-8a01-08ad51143c9e",
     "showTitle": false,
     "title": ""
    }
   },
   "outputs": [
    {
     "output_type": "stream",
     "name": "stdout",
     "output_type": "stream",
     "text": [
      "+-------+------+--------+---------+------+-------+-----+------+--------+----+\n|   Name|Cust_I| Open_Dt|Consul_Dt|VAC_ID|DR_Name|State|County|     DOB|FLAG|\n+-------+------+--------+---------+------+-------+-----+------+--------+----+\n|   Alex|123457|20101012| 20122013|   MVD|   Paul|   SA|   USA|06031987|   A|\n|   John|123458|20101012| 20121999|   MVD|   Paul|   TN|   IND|06031987|   A|\n| Mathew|123459|20101012| 20122003|   MVD|   Paul|  WAS|  PHIL|10031998|   A|\n|   Matt| 12345|20101012| 20122000|   MVD|   Paul|  BOS|   NYC|01051984|   A|\n|  Jacob|125684|20101012| 20121983|   MVD|   Paul|  VIC|    AU|02081989|   A|\n|  Chuck|125679|20101012| 20121989|   MVD|   Paul|  VIC|    AU|06011999|   A|\n|   Rosy|125645|20101012| 20121987|   MVD|   Paul|  VIC|   NYC|06111987|   A|\n|   Rosy|125645|20101012| 20121990|   MVD|   Paul|  VIC|   NYC|06111987|   A|\n|Patrick|125674|20101012| 20122006|   MVD|   Paul|   AP|   IND|06071999|   A|\n| Murphy|125623|20101012| 20122013|   MVD|   Paul|  ALP|  PHIL|06031975|   A|\n|  Maria|125698|20101012| 20122001|   MVD|   Paul|  ROK|   USA|06032001|   A|\n|  Peter|125640|20101012| 20121981|   MVD|   Paul|  PAT|   USA|06031995|   A|\n+-------+------+--------+---------+------+-------+-----+------+--------+----+\n\n"
     ]
    }
   ],
   "source": [
    "cust_df.show()"
   ]
  },
  {
   "cell_type": "code",
   "execution_count": 0,
   "metadata": {
    "application/vnd.databricks.v1+cell": {
     "cellMetadata": {
      "byteLimit": 2048000,
      "rowLimit": 10000
     },
     "inputWidgets": {},
     "nuid": "154d0099-0a0c-453d-ba81-70640bca97a9",
     "showTitle": false,
     "title": ""
    }
   },
   "outputs": [
    {
     "output_type": "stream",
     "name": "stdout",
     "output_type": "stream",
     "text": [
      "+-------+------+--------+----------+------+-------+-----+------+----------+----+------------------+------------------+\n|   Name|Cust_I| Open_Dt| Consul_Dt|VAC_ID|DR_Name|State|County|       DOB|FLAG|               Age|   LastConsultDate|\n+-------+------+--------+----------+------+-------+-----+------+----------+----+------------------+------------------+\n|   Alex|123457|20101012|2013-12-20|   MVD|   Paul|   SA|   USA|1987-03-06|   A| 37.66027397260274|10.849315068493151|\n|   John|123458|20101012|1999-12-20|   MVD|   Paul|   TN|   IND|1987-03-06|   A| 37.66027397260274| 24.86027397260274|\n| Mathew|123459|20101012|2003-12-20|   MVD|   Paul|  WAS|  PHIL|1998-03-10|   A| 26.64109589041096| 20.85753424657534|\n|   Matt| 12345|20101012|2000-12-20|   MVD|   Paul|  BOS|   NYC|1984-05-01|   A| 40.50684931506849| 23.85753424657534|\n|  Jacob|125684|20101012|1983-12-20|   MVD|   Paul|  VIC|    AU|1989-08-02|   A| 35.24931506849315| 40.87123287671233|\n|  Chuck|125679|20101012|1989-12-20|   MVD|   Paul|  VIC|    AU|1999-01-06|   A|25.813698630136987|34.865753424657534|\n|   Rosy|125645|20101012|1987-12-20|   MVD|   Paul|  VIC|   NYC|1987-11-06|   A|36.989041095890414|36.868493150684934|\n|   Rosy|125645|20101012|1990-12-20|   MVD|   Paul|  VIC|   NYC|1987-11-06|   A|36.989041095890414|33.865753424657534|\n|Patrick|125674|20101012|2006-12-20|   MVD|   Paul|   AP|   IND|1999-07-06|   A|25.317808219178083|17.854794520547944|\n| Murphy|125623|20101012|2013-12-20|   MVD|   Paul|  ALP|  PHIL|1975-03-06|   A| 49.66849315068493|10.849315068493151|\n|  Maria|125698|20101012|2001-12-20|   MVD|   Paul|  ROK|   USA|2001-03-06|   A|23.649315068493152| 22.85753424657534|\n|  Peter|125640|20101012|1981-12-20|   MVD|   Paul|  PAT|   USA|1995-03-06|   A|29.654794520547945| 42.87123287671233|\n+-------+------+--------+----------+------+-------+-----+------+----------+----+------------------+------------------+\n\n"
     ]
    }
   ],
   "source": [
    "# Change date formats from string to date type\n",
    "# add new columns : Age & LastConsultDate\n",
    "\n",
    "cust_with_age_df = cust_df.withColumn(\"DOB\", to_date(col(\"DOB\"), \"ddMMyyyy\")) \\\n",
    "           .withColumn(\"Age\",(date_diff(current_date(), col(\"DOB\"))/365))\\\n",
    "           .withColumn(\"Consul_Dt\",to_date(col(\"Consul_Dt\"), \"ddMMyyyy\"))\\\n",
    "           .withColumn(\"LastConsultDate\",(date_diff(current_date(), col(\"Consul_Dt\"))/365))\n",
    "\n",
    "cust_with_age_df.show()"
   ]
  },
  {
   "cell_type": "code",
   "execution_count": 0,
   "metadata": {
    "application/vnd.databricks.v1+cell": {
     "cellMetadata": {
      "byteLimit": 2048000,
      "rowLimit": 10000
     },
     "inputWidgets": {},
     "nuid": "2e3ba9d6-2b74-483e-92f4-6e0d92f6979d",
     "showTitle": false,
     "title": ""
    }
   },
   "outputs": [],
   "source": [
    "# filter out customers with LastConsultDate > 30\n",
    "new_cust_df = cust_with_age_df.filter(col(\"LastConsultDate\")>30)"
   ]
  },
  {
   "cell_type": "code",
   "execution_count": 0,
   "metadata": {
    "application/vnd.databricks.v1+cell": {
     "cellMetadata": {
      "byteLimit": 2048000,
      "rowLimit": 10000
     },
     "inputWidgets": {},
     "nuid": "1b242a35-8ce9-496e-b5f2-a80c0d5a2acb",
     "showTitle": false,
     "title": ""
    }
   },
   "outputs": [
    {
     "output_type": "stream",
     "name": "stdout",
     "output_type": "stream",
     "text": [
      "+-----+------+--------+----------+------+-------+-----+------+----------+----+------------------+------------------+\n| Name|Cust_I| Open_Dt| Consul_Dt|VAC_ID|DR_Name|State|County|       DOB|FLAG|               Age|   LastConsultDate|\n+-----+------+--------+----------+------+-------+-----+------+----------+----+------------------+------------------+\n|Jacob|125684|20101012|1983-12-20|   MVD|   Paul|  VIC|    AU|1989-08-02|   A| 35.24931506849315| 40.87123287671233|\n|Chuck|125679|20101012|1989-12-20|   MVD|   Paul|  VIC|    AU|1999-01-06|   A|25.813698630136987|34.865753424657534|\n| Rosy|125645|20101012|1987-12-20|   MVD|   Paul|  VIC|   NYC|1987-11-06|   A|36.989041095890414|36.868493150684934|\n| Rosy|125645|20101012|1990-12-20|   MVD|   Paul|  VIC|   NYC|1987-11-06|   A|36.989041095890414|33.865753424657534|\n|Peter|125640|20101012|1981-12-20|   MVD|   Paul|  PAT|   USA|1995-03-06|   A|29.654794520547945| 42.87123287671233|\n+-----+------+--------+----------+------+-------+-----+------+----------+----+------------------+------------------+\n\n"
     ]
    }
   ],
   "source": [
    "new_cust_df.show()"
   ]
  },
  {
   "cell_type": "code",
   "execution_count": 0,
   "metadata": {
    "application/vnd.databricks.v1+cell": {
     "cellMetadata": {
      "byteLimit": 2048000,
      "rowLimit": 10000
     },
     "inputWidgets": {},
     "nuid": "417a1b01-99f7-4602-8e27-dc34eccdfd6b",
     "showTitle": false,
     "title": ""
    }
   },
   "outputs": [
    {
     "output_type": "stream",
     "name": "stdout",
     "output_type": "stream",
     "text": [
      "+-----+------+--------+----------+------+-------+-----+------+----------+----+------------------+------------------+\n| Name|Cust_I| Open_Dt| Consul_Dt|VAC_ID|DR_Name|State|County|       DOB|FLAG|               Age|   LastConsultDate|\n+-----+------+--------+----------+------+-------+-----+------+----------+----+------------------+------------------+\n|Peter|125640|20101012|1981-12-20|   MVD|   Paul|  PAT|   USA|1995-03-06|   A|29.654794520547945| 42.87123287671233|\n| Rosy|125645|20101012|1990-12-20|   MVD|   Paul|  VIC|   NYC|1987-11-06|   A|36.989041095890414|33.865753424657534|\n|Chuck|125679|20101012|1989-12-20|   MVD|   Paul|  VIC|    AU|1999-01-06|   A|25.813698630136987|34.865753424657534|\n|Jacob|125684|20101012|1983-12-20|   MVD|   Paul|  VIC|    AU|1989-08-02|   A| 35.24931506849315| 40.87123287671233|\n+-----+------+--------+----------+------+-------+-----+------+----------+----+------------------+------------------+\n\n"
     ]
    }
   ],
   "source": [
    "# finalize the distinct eligible customers with recent LastConsultDate\n",
    "\n",
    "eligible_cust_df = new_cust_df.withColumn(\"Rank\", row_number().over(Window.partitionBy(\"Cust_I\").orderBy(col(\"LastConsultDate\"))))\\\n",
    "                .filter(col(\"Rank\") == 1).drop(\"Rank\")\n",
    "\n",
    "\n",
    "eligible_cust_df.show()"
   ]
  },
  {
   "cell_type": "code",
   "execution_count": 0,
   "metadata": {
    "application/vnd.databricks.v1+cell": {
     "cellMetadata": {},
     "inputWidgets": {},
     "nuid": "238cea65-ab9d-40e0-9bb9-8a2936847409",
     "showTitle": false,
     "title": ""
    }
   },
   "outputs": [],
   "source": [
    "# save the data\n",
    "\n",
    "eligible_cust_df.write.mode(\"append\")\\\n",
    "        .option(\"path\",\"FileStore/tables/paritionByCountry/\")\\\n",
    "        .partitionBy(\"County\")\\\n",
    "        .save()"
   ]
  }
 ],
 "metadata": {
  "application/vnd.databricks.v1+notebook": {
   "dashboards": [],
   "environmentMetadata": null,
   "language": "python",
   "notebookMetadata": {
    "mostRecentlyExecutedCommandWithImplicitDF": {
     "commandId": 2976090257524979,
     "dataframes": [
      "_sqldf"
     ]
    },
    "pythonIndentUnit": 4
   },
   "notebookName": "Incubyte_Assessment",
   "widgets": {}
  }
 },
 "nbformat": 4,
 "nbformat_minor": 0
}
